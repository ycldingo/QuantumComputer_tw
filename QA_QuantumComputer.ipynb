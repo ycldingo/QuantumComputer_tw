{
 "cells": [
  {
   "cell_type": "markdown",
   "metadata": {},
   "source": [
    "# 量子電腦"
   ]
  },
  {
   "cell_type": "markdown",
   "metadata": {},
   "source": [
    "量子力學與相對論的出現將過去所有不涉及這兩者的物理劃分在古典的範圍內。目前市面上常見的電腦都屬於古典電腦，所使用的原理皆不含量子力學或相對論。隨科學不斷向前推進，美國IBM公司於2016年推出首部免費的量子電腦，開啟計算機新紀元。"
   ]
  },
  {
   "cell_type": "markdown",
   "metadata": {},
   "source": [
    "## 量子位元"
   ]
  },
  {
   "cell_type": "markdown",
   "metadata": {},
   "source": [
    "一般電腦使用的語言是二進位。當我們想請電腦執行某項工作、以滑鼠或鍵盤下令，此時這道命令會被翻譯成電腦熟悉的語言：一串包含0和1的字串。電腦讀取後就會依據指令執行工作。在古典電腦的語言裡，字串中每個位置稱為「位元」，是古典資訊的最小單位，舉例來說：「01001」就是一道5位元的指令。\n",
    "\n",
    "當我們換到量子世界，這些古典世界的位元被替換成「量子位元」，同樣由$\\left|0\\right>$和$\\left|1\\right>$兩個狀態組成。截至目前我們看不出量子與古典的差別，不過接下來開始一切將有所不同。量子電腦可以將古典電腦拋諸腦後，是因為擁有兩種超能力：疊加態、糾纏現象。"
   ]
  },
  {
   "cell_type": "markdown",
   "metadata": {},
   "source": [
    "### 疊加態"
   ]
  },
  {
   "cell_type": "markdown",
   "metadata": {},
   "source": [
    "當一量子系統處於疊加態時，此量子系統的狀態為幾個不同狀態所組成。"
   ]
  },
  {
   "cell_type": "markdown",
   "metadata": {},
   "source": [
    "以科學角度切入問題前我們先來看一個日常：\n",
    " 「今天業務量真多。小白，你最近工作還好嗎？」\n",
    " 「我喔？我正處於『工作』跟『待業』之間。」\n",
    "\n",
    "當隔壁部門的酒友這樣回覆你的忙裡偷閒時，你大概會覺得對方很難聊、下班經過附近時慢下腳步默默注意他究竟幹什麼去了吧。瞥見小白的辦公桌前，你不知道他的工作究竟發生什麼事。回到物理世界，量子位元（小白）正處於$\\left|1\\right>$（$\\left|\\text{工作}\\right>$）與$\\left|0\\right>$（$\\left|\\text{待業}\\right>$）的疊加態，他有一定機率埋首工作、也有機會被炒魷魚，如果你（觀察者）沒有經過測量（詢問頂頭上司）就不會知道他的狀態。小白可以是$75\\%$機率有工作、$25\\%$機會失業，也可以一半一半。\n",
    "\n",
    "這時你經過小白的工作區域，赫然發現他的辦公桌收拾整齊、一切妥妥貼貼，像是週末。你好奇詢問隔壁同事、才知道他放無薪假（疊加態）去了。此時小白的工作介於有和沒有之間，這種處於幾種可能性中間的狀態稱為「疊加態」。"
   ]
  },
  {
   "cell_type": "markdown",
   "metadata": {},
   "source": [
    "#### 科學上可以光的偏振來理解"
   ]
  },
  {
   "cell_type": "markdown",
   "metadata": {},
   "source": [
    "一束未經處理的陽光包含各種偏振方向的電場（光的狀態為許多偏振方向的疊加態），當這束光經過一偏振片（以偏振片測量）後，便會留下對應此偏振片的電場方向（剩下某種量子態）。"
   ]
  },
  {
   "cell_type": "markdown",
   "metadata": {},
   "source": [
    "### 糾纏"
   ]
  },
  {
   "cell_type": "markdown",
   "metadata": {},
   "source": [
    "若幾個粒子經過交互作用後，由於各粒子的特性已綜合成整體性質，只能描述整體系統的性質而無法描述組成粒子，這種現象稱為量子糾纏。"
   ]
  },
  {
   "cell_type": "markdown",
   "metadata": {},
   "source": [
    "與小白同期的新人還有小黑，一開始完全不認識的兩人進到同部門工作後時常聚在一起討論工作大小事，形影不離甚至會對同件事有相同反應。小灰是年資長幾個月的同仁，對於黑白二人組的交情不以為然，認為他們老在辦公室大聲喧嘩、妨礙旁人的工作。每次部門會議上的提案只要黑白贊同的，小灰必定投下反對票，不為什麼。久而久之，黑白也開始站在小灰的對立面。\n",
    "\n",
    "這樣的情況我們稱黑白灰三者呈現糾纏狀態。當你（觀察者）詢問三人關於某案的看法（測量某物理性質）時，只要知道其中一人的結果，就可以百分百確定其他兩人的立場（狀態）。當粒子之間發生揪纏現象，即便間距離得很遠，也不會改變彼此間的糾纏態。當其中一方的狀態被測量而確定，另一方的狀態將立即得知。"
   ]
  },
  {
   "cell_type": "markdown",
   "metadata": {},
   "source": [
    "#### 知更鳥眼中的量子糾纏[1](#CoherenceEntanglement_AvianCompass) <a href='#CoherenceEntanglement_AvianCompass'></a> [2](#QuantumBiology) <a href='QuantumBiology'></a>"
   ]
  },
  {
   "cell_type": "markdown",
   "metadata": {},
   "source": [
    "以光照射人類眼睛時瞳孔會縮小，這是因為光攜帶的能量足夠刺激眼睛產生化學反應。同樣地，光入射知更鳥的眼睛也會引起類似的化學反應。光進入知更鳥眼睛時會產生一糾纏電子對，這對糾纏電子對受到地球磁場影響進而會改變其狀態。靠著這種方式，知更鳥的磁羅盤可以偵測地磁的細微震動，透過量子糾纏來導航。"
   ]
  },
  {
   "cell_type": "markdown",
   "metadata": {},
   "source": [
    "# 參考資料"
   ]
  },
  {
   "cell_type": "markdown",
   "metadata": {},
   "source": [
    "[1] E. M. Gauger, E. Rieper, J. J. L. Morton, S. C. Benjamin, and V. Vedral, Phys. Rev. Lett. 106, 040503 (2011), URL https://link.aps.org/doi/10.1103/PhysRevLett.106.040503.\n",
    "<a id='#CoherenceEntanglement_AvianCompass'></a>\n",
    "\n",
    "[2] N. Lambert, Y.-N. Chen, Y.-C. Cheng, C.-M. Li, G.-Y. Chen, and F. Nori, Nature Physics 9, 10 (2013), ISSN 1745-2481, URL https://doi.org/10.1038/nphys2474.\n",
    "<a id='#QuantumBiology'></a>"
   ]
  },
  {
   "cell_type": "code",
   "execution_count": null,
   "metadata": {},
   "outputs": [],
   "source": []
  }
 ],
 "metadata": {
  "kernelspec": {
   "display_name": "Python (Qiskitenv)",
   "language": "python",
   "name": "qiskitenv"
  }
 },
 "nbformat": 4,
 "nbformat_minor": 4
}
